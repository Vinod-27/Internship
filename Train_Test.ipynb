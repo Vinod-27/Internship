{
 "cells": [
  {
   "cell_type": "code",
   "execution_count": 1,
   "metadata": {
    "id": "rndSRnltwlIT"
   },
   "outputs": [],
   "source": [
    "# from google.colab import drive\n",
    "# drive.mount('/content/drive/')\n",
    "# ! unzip -q /content/drive/MyDrive/Train_data.zip  -d /content/\n",
    "# !git clone https://github.com/ultralytics/yolov5  # clone\n",
    "# %cd yolov5\n",
    "# ! pip install -qr requirements.txt\n",
    "# ! python train.py --img 2239 --batch 15 --epochs 10 --data /content/dataset.yaml --weights yolov5s.pt\n"
   ]
  },
  {
   "cell_type": "code",
   "execution_count": 3,
   "metadata": {
    "id": "ULpc3SKixCM0"
   },
   "outputs": [],
   "source": [
    "! unzip -q /content/drive/MyDrive/Train_da.zip  -d /content/"
   ]
  },
  {
   "cell_type": "raw",
   "metadata": {},
   "source": [
    "Unzip of Training data zip file"
   ]
  },
  {
   "cell_type": "code",
   "execution_count": 4,
   "metadata": {
    "colab": {
     "base_uri": "https://localhost:8080/"
    },
    "id": "V47OvYOIxXll",
    "outputId": "5f8fb74e-d9a4-4b80-9894-bc0e361a7eff"
   },
   "outputs": [
    {
     "name": "stdout",
     "output_type": "stream",
     "text": [
      "Cloning into 'yolov5'...\n",
      "remote: Enumerating objects: 10878, done.\u001b[K\n",
      "remote: Total 10878 (delta 0), reused 0 (delta 0), pack-reused 10878\u001b[K\n",
      "Receiving objects: 100% (10878/10878), 10.95 MiB | 33.96 MiB/s, done.\n",
      "Resolving deltas: 100% (7519/7519), done.\n"
     ]
    }
   ],
   "source": [
    "!git clone https://github.com/ultralytics/yolov5  # clone"
   ]
  },
  {
   "cell_type": "raw",
   "metadata": {},
   "source": [
    "I have cloned yolov5 from github link"
   ]
  },
  {
   "cell_type": "code",
   "execution_count": 5,
   "metadata": {
    "colab": {
     "base_uri": "https://localhost:8080/",
     "height": 35
    },
    "id": "i_nktLHIxerd",
    "outputId": "60703dba-0dc0-49c3-f143-7d929e901739"
   },
   "outputs": [
    {
     "data": {
      "application/vnd.google.colaboratory.intrinsic+json": {
       "type": "string"
      },
      "text/plain": [
       "'/content'"
      ]
     },
     "execution_count": 5,
     "metadata": {},
     "output_type": "execute_result"
    }
   ],
   "source": [
    "pwd"
   ]
  },
  {
   "cell_type": "code",
   "execution_count": 6,
   "metadata": {
    "colab": {
     "base_uri": "https://localhost:8080/"
    },
    "id": "edH8PW4Dxml4",
    "outputId": "1ec430d0-5487-40dc-9c40-ba0b7d66a7bf"
   },
   "outputs": [
    {
     "name": "stdout",
     "output_type": "stream",
     "text": [
      "/content/yolov5\n"
     ]
    }
   ],
   "source": [
    "%cd yolov5"
   ]
  },
  {
   "cell_type": "code",
   "execution_count": 7,
   "metadata": {
    "colab": {
     "base_uri": "https://localhost:8080/"
    },
    "id": "eoTeatCpxodY",
    "outputId": "da0c5c62-8209-41a9-ce44-7e6d4a63ba7e"
   },
   "outputs": [
    {
     "name": "stdout",
     "output_type": "stream",
     "text": [
      "\u001b[?25l\r",
      "\u001b[K     |▌                               | 10 kB 29.1 MB/s eta 0:00:01\r",
      "\u001b[K     |█                               | 20 kB 9.7 MB/s eta 0:00:01\r",
      "\u001b[K     |█▋                              | 30 kB 8.3 MB/s eta 0:00:01\r",
      "\u001b[K     |██▏                             | 40 kB 7.6 MB/s eta 0:00:01\r",
      "\u001b[K     |██▊                             | 51 kB 5.0 MB/s eta 0:00:01\r",
      "\u001b[K     |███▎                            | 61 kB 5.1 MB/s eta 0:00:01\r",
      "\u001b[K     |███▉                            | 71 kB 5.3 MB/s eta 0:00:01\r",
      "\u001b[K     |████▍                           | 81 kB 6.0 MB/s eta 0:00:01\r",
      "\u001b[K     |█████                           | 92 kB 4.7 MB/s eta 0:00:01\r",
      "\u001b[K     |█████▌                          | 102 kB 5.2 MB/s eta 0:00:01\r",
      "\u001b[K     |██████                          | 112 kB 5.2 MB/s eta 0:00:01\r",
      "\u001b[K     |██████▋                         | 122 kB 5.2 MB/s eta 0:00:01\r",
      "\u001b[K     |███████▏                        | 133 kB 5.2 MB/s eta 0:00:01\r",
      "\u001b[K     |███████▊                        | 143 kB 5.2 MB/s eta 0:00:01\r",
      "\u001b[K     |████████▎                       | 153 kB 5.2 MB/s eta 0:00:01\r",
      "\u001b[K     |████████▉                       | 163 kB 5.2 MB/s eta 0:00:01\r",
      "\u001b[K     |█████████▍                      | 174 kB 5.2 MB/s eta 0:00:01\r",
      "\u001b[K     |██████████                      | 184 kB 5.2 MB/s eta 0:00:01\r",
      "\u001b[K     |██████████▍                     | 194 kB 5.2 MB/s eta 0:00:01\r",
      "\u001b[K     |███████████                     | 204 kB 5.2 MB/s eta 0:00:01\r",
      "\u001b[K     |███████████▌                    | 215 kB 5.2 MB/s eta 0:00:01\r",
      "\u001b[K     |████████████                    | 225 kB 5.2 MB/s eta 0:00:01\r",
      "\u001b[K     |████████████▋                   | 235 kB 5.2 MB/s eta 0:00:01\r",
      "\u001b[K     |█████████████▏                  | 245 kB 5.2 MB/s eta 0:00:01\r",
      "\u001b[K     |█████████████▊                  | 256 kB 5.2 MB/s eta 0:00:01\r",
      "\u001b[K     |██████████████▎                 | 266 kB 5.2 MB/s eta 0:00:01\r",
      "\u001b[K     |██████████████▉                 | 276 kB 5.2 MB/s eta 0:00:01\r",
      "\u001b[K     |███████████████▍                | 286 kB 5.2 MB/s eta 0:00:01\r",
      "\u001b[K     |████████████████                | 296 kB 5.2 MB/s eta 0:00:01\r",
      "\u001b[K     |████████████████▌               | 307 kB 5.2 MB/s eta 0:00:01\r",
      "\u001b[K     |█████████████████               | 317 kB 5.2 MB/s eta 0:00:01\r",
      "\u001b[K     |█████████████████▋              | 327 kB 5.2 MB/s eta 0:00:01\r",
      "\u001b[K     |██████████████████▏             | 337 kB 5.2 MB/s eta 0:00:01\r",
      "\u001b[K     |██████████████████▊             | 348 kB 5.2 MB/s eta 0:00:01\r",
      "\u001b[K     |███████████████████▎            | 358 kB 5.2 MB/s eta 0:00:01\r",
      "\u001b[K     |███████████████████▉            | 368 kB 5.2 MB/s eta 0:00:01\r",
      "\u001b[K     |████████████████████▍           | 378 kB 5.2 MB/s eta 0:00:01\r",
      "\u001b[K     |████████████████████▉           | 389 kB 5.2 MB/s eta 0:00:01\r",
      "\u001b[K     |█████████████████████▍          | 399 kB 5.2 MB/s eta 0:00:01\r",
      "\u001b[K     |██████████████████████          | 409 kB 5.2 MB/s eta 0:00:01\r",
      "\u001b[K     |██████████████████████▌         | 419 kB 5.2 MB/s eta 0:00:01\r",
      "\u001b[K     |███████████████████████         | 430 kB 5.2 MB/s eta 0:00:01\r",
      "\u001b[K     |███████████████████████▋        | 440 kB 5.2 MB/s eta 0:00:01\r",
      "\u001b[K     |████████████████████████▏       | 450 kB 5.2 MB/s eta 0:00:01\r",
      "\u001b[K     |████████████████████████▊       | 460 kB 5.2 MB/s eta 0:00:01\r",
      "\u001b[K     |█████████████████████████▎      | 471 kB 5.2 MB/s eta 0:00:01\r",
      "\u001b[K     |█████████████████████████▉      | 481 kB 5.2 MB/s eta 0:00:01\r",
      "\u001b[K     |██████████████████████████▍     | 491 kB 5.2 MB/s eta 0:00:01\r",
      "\u001b[K     |███████████████████████████     | 501 kB 5.2 MB/s eta 0:00:01\r",
      "\u001b[K     |███████████████████████████▌    | 512 kB 5.2 MB/s eta 0:00:01\r",
      "\u001b[K     |████████████████████████████    | 522 kB 5.2 MB/s eta 0:00:01\r",
      "\u001b[K     |████████████████████████████▋   | 532 kB 5.2 MB/s eta 0:00:01\r",
      "\u001b[K     |█████████████████████████████▏  | 542 kB 5.2 MB/s eta 0:00:01\r",
      "\u001b[K     |█████████████████████████████▊  | 552 kB 5.2 MB/s eta 0:00:01\r",
      "\u001b[K     |██████████████████████████████▎ | 563 kB 5.2 MB/s eta 0:00:01\r",
      "\u001b[K     |██████████████████████████████▊ | 573 kB 5.2 MB/s eta 0:00:01\r",
      "\u001b[K     |███████████████████████████████▎| 583 kB 5.2 MB/s eta 0:00:01\r",
      "\u001b[K     |███████████████████████████████▉| 593 kB 5.2 MB/s eta 0:00:01\r",
      "\u001b[K     |████████████████████████████████| 596 kB 5.2 MB/s \n",
      "\u001b[?25h"
     ]
    }
   ],
   "source": [
    "! pip install -qr requirements.txt"
   ]
  },
  {
   "cell_type": "raw",
   "metadata": {},
   "source": [
    "The requirements.txt file will automatically be installed which was required by this project"
   ]
  },
  {
   "cell_type": "code",
   "execution_count": 8,
   "metadata": {
    "colab": {
     "base_uri": "https://localhost:8080/"
    },
    "id": "4SsJeQSlxr86",
    "outputId": "2181f804-722d-4f81-be35-25572498578b"
   },
   "outputs": [
    {
     "name": "stdout",
     "output_type": "stream",
     "text": [
      "Downloading https://ultralytics.com/assets/Arial.ttf to /root/.config/Ultralytics/Arial.ttf...\n",
      "\u001b[34m\u001b[1mtrain: \u001b[0mweights=yolov5s.pt, cfg=, data=/content/dataset.yaml, hyp=data/hyps/hyp.scratch.yaml, epochs=8, batch_size=4, imgsz=2239, rect=False, resume=False, nosave=False, noval=False, noautoanchor=False, evolve=None, bucket=, cache=None, image_weights=False, device=, multi_scale=False, single_cls=False, optimizer=SGD, sync_bn=False, workers=8, project=runs/train, name=exp, exist_ok=False, quad=False, linear_lr=False, label_smoothing=0.0, patience=100, freeze=[0], save_period=-1, local_rank=-1, entity=None, upload_dataset=False, bbox_interval=-1, artifact_alias=latest\n",
      "\u001b[34m\u001b[1mgithub: \u001b[0mup to date with https://github.com/ultralytics/yolov5 ✅\n",
      "YOLOv5 🚀 v6.0-237-gdc7e093 torch 1.10.0+cu111 CUDA:0 (Tesla T4, 15110MiB)\n",
      "\n",
      "\u001b[34m\u001b[1mhyperparameters: \u001b[0mlr0=0.01, lrf=0.1, momentum=0.937, weight_decay=0.0005, warmup_epochs=3.0, warmup_momentum=0.8, warmup_bias_lr=0.1, box=0.05, cls=0.5, cls_pw=1.0, obj=1.0, obj_pw=1.0, iou_t=0.2, anchor_t=4.0, fl_gamma=0.0, hsv_h=0.015, hsv_s=0.7, hsv_v=0.4, degrees=0.0, translate=0.1, scale=0.5, shear=0.0, perspective=0.0, flipud=0.0, fliplr=0.5, mosaic=1.0, mixup=0.0, copy_paste=0.0\n",
      "\u001b[34m\u001b[1mWeights & Biases: \u001b[0mrun 'pip install wandb' to automatically track and visualize YOLOv5 🚀 runs (RECOMMENDED)\n",
      "\u001b[34m\u001b[1mTensorBoard: \u001b[0mStart with 'tensorboard --logdir runs/train', view at http://localhost:6006/\n",
      "Downloading https://github.com/ultralytics/yolov5/releases/download/v6.0/yolov5s.pt to yolov5s.pt...\n",
      "100% 14.0M/14.0M [00:00<00:00, 85.3MB/s]\n",
      "\n",
      "Overriding model.yaml nc=80 with nc=2\n",
      "\n",
      "                 from  n    params  module                                  arguments                     \n",
      "  0                -1  1      3520  models.common.Conv                      [3, 32, 6, 2, 2]              \n",
      "  1                -1  1     18560  models.common.Conv                      [32, 64, 3, 2]                \n",
      "  2                -1  1     18816  models.common.C3                        [64, 64, 1]                   \n",
      "  3                -1  1     73984  models.common.Conv                      [64, 128, 3, 2]               \n",
      "  4                -1  2    115712  models.common.C3                        [128, 128, 2]                 \n",
      "  5                -1  1    295424  models.common.Conv                      [128, 256, 3, 2]              \n",
      "  6                -1  3    625152  models.common.C3                        [256, 256, 3]                 \n",
      "  7                -1  1   1180672  models.common.Conv                      [256, 512, 3, 2]              \n",
      "  8                -1  1   1182720  models.common.C3                        [512, 512, 1]                 \n",
      "  9                -1  1    656896  models.common.SPPF                      [512, 512, 5]                 \n",
      " 10                -1  1    131584  models.common.Conv                      [512, 256, 1, 1]              \n",
      " 11                -1  1         0  torch.nn.modules.upsampling.Upsample    [None, 2, 'nearest']          \n",
      " 12           [-1, 6]  1         0  models.common.Concat                    [1]                           \n",
      " 13                -1  1    361984  models.common.C3                        [512, 256, 1, False]          \n",
      " 14                -1  1     33024  models.common.Conv                      [256, 128, 1, 1]              \n",
      " 15                -1  1         0  torch.nn.modules.upsampling.Upsample    [None, 2, 'nearest']          \n",
      " 16           [-1, 4]  1         0  models.common.Concat                    [1]                           \n",
      " 17                -1  1     90880  models.common.C3                        [256, 128, 1, False]          \n",
      " 18                -1  1    147712  models.common.Conv                      [128, 128, 3, 2]              \n",
      " 19          [-1, 14]  1         0  models.common.Concat                    [1]                           \n",
      " 20                -1  1    296448  models.common.C3                        [256, 256, 1, False]          \n",
      " 21                -1  1    590336  models.common.Conv                      [256, 256, 3, 2]              \n",
      " 22          [-1, 10]  1         0  models.common.Concat                    [1]                           \n",
      " 23                -1  1   1182720  models.common.C3                        [512, 512, 1, False]          \n",
      " 24      [17, 20, 23]  1     18879  models.yolo.Detect                      [2, [[10, 13, 16, 30, 33, 23], [30, 61, 62, 45, 59, 119], [116, 90, 156, 198, 373, 326]], [128, 256, 512]]\n",
      "Model Summary: 270 layers, 7025023 parameters, 7025023 gradients, 15.9 GFLOPs\n",
      "\n",
      "Transferred 343/349 items from yolov5s.pt\n",
      "WARNING: --img-size 2239 must be multiple of max stride 32, updating to 2240\n",
      "Scaled weight_decay = 0.0005\n",
      "\u001b[34m\u001b[1moptimizer:\u001b[0m SGD with parameter groups 57 weight (no decay), 60 weight, 60 bias\n",
      "\u001b[34m\u001b[1malbumentations: \u001b[0mversion 1.0.3 required by YOLOv5, but version 0.1.12 is currently installed\n",
      "\u001b[34m\u001b[1mtrain: \u001b[0mScanning '/content/yolov5/../Train_da/labels/train' images and labels...500 found, 0 missing, 0 empty, 0 corrupt: 100% 500/500 [00:00<00:00, 1932.91it/s]\n",
      "\u001b[34m\u001b[1mtrain: \u001b[0mNew cache created: /content/yolov5/../Train_da/labels/train.cache\n",
      "\u001b[34m\u001b[1mval: \u001b[0mScanning '/content/yolov5/../Train_da/labels/val' images and labels...0 found, 100 missing, 0 empty, 0 corrupt: 100% 100/100 [00:00<00:00, 1355.44it/s]\n",
      "\u001b[34m\u001b[1mval: \u001b[0mWARNING: No labels found in /content/yolov5/../Train_da/labels/val.cache. See https://github.com/ultralytics/yolov5/wiki/Train-Custom-Data\n",
      "\u001b[34m\u001b[1mval: \u001b[0mNew cache created: /content/yolov5/../Train_da/labels/val.cache\n",
      "Plotting labels to runs/train/exp/labels.jpg... \n",
      "'silent_list' object has no attribute 'patches'\n",
      "\n",
      "\u001b[34m\u001b[1mAutoAnchor: \u001b[0m3.61 anchors/target, 0.942 Best Possible Recall (BPR). Anchors are a poor fit to dataset ⚠️, attempting to improve...\n",
      "\u001b[34m\u001b[1mAutoAnchor: \u001b[0mRunning kmeans for 9 anchors on 4003 points...\n",
      "\u001b[34m\u001b[1mAutoAnchor: \u001b[0mEvolving anchors with Genetic Algorithm: fitness = 0.7128: 100% 1000/1000 [00:01<00:00, 748.63it/s]\n",
      "\u001b[34m\u001b[1mAutoAnchor: \u001b[0mthr=0.25: 0.9968 best possible recall, 4.64 anchors past thr\n",
      "\u001b[34m\u001b[1mAutoAnchor: \u001b[0mn=9, img_size=2240, metric_all=0.306/0.713-mean/best, past_thr=0.472-mean: 44,60, 69,133, 186,131, 105,252, 172,463, 348,268, 777,407, 430,882, 1594,1089\n",
      "\u001b[34m\u001b[1mAutoAnchor: \u001b[0mNew anchors saved to model. Update model *.yaml to use these anchors in the future.\n",
      "Image sizes 2240 train, 2240 val\n",
      "Using 2 dataloader workers\n",
      "Logging results to \u001b[1mruns/train/exp\u001b[0m\n",
      "Starting training for 8 epochs...\n",
      "\n",
      "     Epoch   gpu_mem       box       obj       cls    labels  img_size\n",
      "       0/7     10.1G    0.1061    0.1521   0.02828        68      2240: 100% 125/125 [01:56<00:00,  1.07it/s]\n",
      "               Class     Images     Labels          P          R     mAP@.5 mAP@.5:.95: 100% 13/13 [00:07<00:00,  1.75it/s]\n",
      "                 all        100          0          0          0          0          0\n",
      "\n",
      "     Epoch   gpu_mem       box       obj       cls    labels  img_size\n",
      "       1/7     9.71G    0.0783    0.1368   0.02063        54      2240: 100% 125/125 [01:53<00:00,  1.10it/s]\n",
      "               Class     Images     Labels          P          R     mAP@.5 mAP@.5:.95: 100% 13/13 [00:07<00:00,  1.82it/s]\n",
      "                 all        100          0          0          0          0          0\n",
      "\n",
      "     Epoch   gpu_mem       box       obj       cls    labels  img_size\n",
      "       2/7     10.6G   0.06943    0.1315    0.0139        66      2240: 100% 125/125 [01:53<00:00,  1.10it/s]\n",
      "               Class     Images     Labels          P          R     mAP@.5 mAP@.5:.95: 100% 13/13 [00:06<00:00,  1.86it/s]\n",
      "                 all        100          0          0          0          0          0\n",
      "\n",
      "     Epoch   gpu_mem       box       obj       cls    labels  img_size\n",
      "       3/7     10.6G   0.06763    0.1253   0.01046        68      2240: 100% 125/125 [01:52<00:00,  1.11it/s]\n",
      "               Class     Images     Labels          P          R     mAP@.5 mAP@.5:.95: 100% 13/13 [00:07<00:00,  1.85it/s]\n",
      "                 all        100          0          0          0          0          0\n",
      "\n",
      "     Epoch   gpu_mem       box       obj       cls    labels  img_size\n",
      "       4/7     10.6G   0.06426    0.1258  0.009173        18      2240: 100% 125/125 [01:53<00:00,  1.10it/s]\n",
      "               Class     Images     Labels          P          R     mAP@.5 mAP@.5:.95: 100% 13/13 [00:06<00:00,  2.04it/s]\n",
      "                 all        100          0          0          0          0          0\n",
      "\n",
      "     Epoch   gpu_mem       box       obj       cls    labels  img_size\n",
      "       5/7     10.6G   0.06068    0.1256  0.008324        31      2240: 100% 125/125 [01:53<00:00,  1.11it/s]\n",
      "               Class     Images     Labels          P          R     mAP@.5 mAP@.5:.95: 100% 13/13 [00:06<00:00,  1.98it/s]\n",
      "                 all        100          0          0          0          0          0\n",
      "\n",
      "     Epoch   gpu_mem       box       obj       cls    labels  img_size\n",
      "       6/7     10.6G   0.05528    0.1269  0.007203        24      2240: 100% 125/125 [01:55<00:00,  1.09it/s]\n",
      "               Class     Images     Labels          P          R     mAP@.5 mAP@.5:.95: 100% 13/13 [00:06<00:00,  1.87it/s]\n",
      "                 all        100          0          0          0          0          0\n",
      "\n",
      "     Epoch   gpu_mem       box       obj       cls    labels  img_size\n",
      "       7/7     10.6G   0.05021    0.1296  0.006941        74      2240: 100% 125/125 [01:54<00:00,  1.09it/s]\n",
      "               Class     Images     Labels          P          R     mAP@.5 mAP@.5:.95: 100% 13/13 [00:05<00:00,  2.30it/s]\n",
      "                 all        100          0          0          0          0          0\n",
      "\n",
      "8 epochs completed in 0.271 hours.\n",
      "Optimizer stripped from runs/train/exp/weights/last.pt, 16.0MB\n",
      "Optimizer stripped from runs/train/exp/weights/best.pt, 16.0MB\n",
      "\n",
      "Validating runs/train/exp/weights/best.pt...\n",
      "Fusing layers... \n",
      "Model Summary: 213 layers, 7015519 parameters, 0 gradients, 15.8 GFLOPs\n",
      "               Class     Images     Labels          P          R     mAP@.5 mAP@.5:.95: 100% 13/13 [00:08<00:00,  1.60it/s]\n",
      "                 all        100          0          0          0          0          0\n",
      "Results saved to \u001b[1mruns/train/exp\u001b[0m\n"
     ]
    }
   ],
   "source": [
    "! python train.py --img 2239 --batch 4 --epochs 8 --data /content/dataset.yaml --weights yolov5s.pt"
   ]
  },
  {
   "cell_type": "raw",
   "metadata": {
    "id": "bTR6ETfWx2zY"
   },
   "source": [
    "All results saved in runs folder but it is not located in zip file\n",
    "best.pt file i have saved separetely in models folder"
   ]
  },
  {
   "cell_type": "code",
   "execution_count": null,
   "metadata": {
    "id": "q0Cl8FduSezQ"
   },
   "outputs": [],
   "source": []
  }
 ],
 "metadata": {
  "accelerator": "GPU",
  "colab": {
   "collapsed_sections": [],
   "name": "Untitled0.ipynb",
   "provenance": []
  },
  "kernelspec": {
   "display_name": "Python 3",
   "language": "python",
   "name": "python3"
  },
  "language_info": {
   "codemirror_mode": {
    "name": "ipython",
    "version": 3
   },
   "file_extension": ".py",
   "mimetype": "text/x-python",
   "name": "python",
   "nbconvert_exporter": "python",
   "pygments_lexer": "ipython3",
   "version": "3.8.8"
  }
 },
 "nbformat": 4,
 "nbformat_minor": 1
}
