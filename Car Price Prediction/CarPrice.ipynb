{
 "cells": [
  {
   "cell_type": "code",
   "execution_count": 1,
   "id": "1887a5c3",
   "metadata": {},
   "outputs": [],
   "source": [
    "import numpy as np\n",
    "import pandas as pd\n",
    "import warnings\n",
    "warnings.simplefilter('ignore')"
   ]
  },
  {
   "cell_type": "markdown",
   "id": "e6b7f34a",
   "metadata": {},
   "source": [
    "# Reading Dataset"
   ]
  },
  {
   "cell_type": "code",
   "execution_count": 2,
   "id": "0419a4ed",
   "metadata": {},
   "outputs": [],
   "source": [
    "df=pd.read_csv('cardekho.csv')"
   ]
  },
  {
   "cell_type": "code",
   "execution_count": 3,
   "id": "8bcddca5",
   "metadata": {},
   "outputs": [
    {
     "data": {
      "text/html": [
       "<div>\n",
       "<style scoped>\n",
       "    .dataframe tbody tr th:only-of-type {\n",
       "        vertical-align: middle;\n",
       "    }\n",
       "\n",
       "    .dataframe tbody tr th {\n",
       "        vertical-align: top;\n",
       "    }\n",
       "\n",
       "    .dataframe thead th {\n",
       "        text-align: right;\n",
       "    }\n",
       "</style>\n",
       "<table border=\"1\" class=\"dataframe\">\n",
       "  <thead>\n",
       "    <tr style=\"text-align: right;\">\n",
       "      <th></th>\n",
       "      <th>Unnamed: 0</th>\n",
       "      <th>Car_name</th>\n",
       "      <th>Price</th>\n",
       "      <th>Kilometers</th>\n",
       "      <th>Year of Purchase</th>\n",
       "      <th>Owner</th>\n",
       "      <th>Fuel</th>\n",
       "      <th>Transmission</th>\n",
       "      <th>RTO</th>\n",
       "      <th>Insurance Type</th>\n",
       "      <th>Feature</th>\n",
       "      <th>Safety</th>\n",
       "      <th>Interior</th>\n",
       "      <th>Exterior</th>\n",
       "    </tr>\n",
       "  </thead>\n",
       "  <tbody>\n",
       "    <tr>\n",
       "      <th>0</th>\n",
       "      <td>0</td>\n",
       "      <td>2011 Honda City</td>\n",
       "      <td>₹ 3,99,500</td>\n",
       "      <td>38,647 Kms</td>\n",
       "      <td>2011</td>\n",
       "      <td>1st Owner</td>\n",
       "      <td>Petrol</td>\n",
       "      <td>Manual</td>\n",
       "      <td>GJ01</td>\n",
       "      <td>Third Party insurance</td>\n",
       "      <td>Power Steering, Power Windows Front, Power Win...</td>\n",
       "      <td>Anti Lock Braking System, Brake Assist, Center...</td>\n",
       "      <td>Air Conditioner, Heater, Adjustable Steering, ...</td>\n",
       "      <td>Adjustable Head Lights, Fog Lights Front, Powe...</td>\n",
       "    </tr>\n",
       "    <tr>\n",
       "      <th>1</th>\n",
       "      <td>1</td>\n",
       "      <td>2019 Maruti Swift Dzire</td>\n",
       "      <td>₹ 6,65,000</td>\n",
       "      <td>9,718 Kms</td>\n",
       "      <td>2019</td>\n",
       "      <td>1st Owner</td>\n",
       "      <td>Petrol</td>\n",
       "      <td>Manual</td>\n",
       "      <td>GJ09</td>\n",
       "      <td>Third Party insurance</td>\n",
       "      <td>Power Steering, Power Windows Front, Power Win...</td>\n",
       "      <td>Anti Lock Braking System, Brake Assist, Center...</td>\n",
       "      <td>Air Conditioner, Heater, Adjustable Steering, ...</td>\n",
       "      <td>Adjustable Head Lights, Power Adjustable Exter...</td>\n",
       "    </tr>\n",
       "    <tr>\n",
       "      <th>2</th>\n",
       "      <td>2</td>\n",
       "      <td>2012 Maruti Alto K10</td>\n",
       "      <td>₹ 1,77,500</td>\n",
       "      <td>89,579 Kms</td>\n",
       "      <td>2012</td>\n",
       "      <td>1st Owner</td>\n",
       "      <td>Petrol</td>\n",
       "      <td>Manual</td>\n",
       "      <td>GJ01</td>\n",
       "      <td>Third Party insurance</td>\n",
       "      <td>Power Steering, Remote Trunk Opener, Remote Fu...</td>\n",
       "      <td>Halogen Headlamps, Rear Seat Belts, Seat Belt ...</td>\n",
       "      <td>Air Conditioner, Heater, Electronic Multi Trip...</td>\n",
       "      <td>Adjustable Head Lights, Manually Adjustable Ex...</td>\n",
       "    </tr>\n",
       "    <tr>\n",
       "      <th>3</th>\n",
       "      <td>3</td>\n",
       "      <td>2016 Maruti Wagon R</td>\n",
       "      <td>₹ 3,60,000</td>\n",
       "      <td>81,674 Kms</td>\n",
       "      <td>2016</td>\n",
       "      <td>1st Owner</td>\n",
       "      <td>Petrol</td>\n",
       "      <td>Manual</td>\n",
       "      <td>GJ18</td>\n",
       "      <td>Third Party insurance</td>\n",
       "      <td>Foldable Rear Seat, Power Steering, Power Wind...</td>\n",
       "      <td>Anti Lock Braking System, Centeral Locking, Po...</td>\n",
       "      <td>Air Conditioner, Heater, Adjustable Steering, ...</td>\n",
       "      <td>Adjustable Head Lights, Power Adjustable Exter...</td>\n",
       "    </tr>\n",
       "    <tr>\n",
       "      <th>4</th>\n",
       "      <td>4</td>\n",
       "      <td>2020 Maruti Eeco</td>\n",
       "      <td>₹ 4,72,000</td>\n",
       "      <td>17,116 Kms</td>\n",
       "      <td>2020</td>\n",
       "      <td>1st Owner</td>\n",
       "      <td>Petrol</td>\n",
       "      <td>Manual</td>\n",
       "      <td>GJ01</td>\n",
       "      <td>Third Party insurance</td>\n",
       "      <td>Low Fuel Warning Light, Accessory Power Outlet...</td>\n",
       "      <td>Anti Lock Braking System, Child Safety Locks, ...</td>\n",
       "      <td>Air Conditioner, Heater, Digital Odometer, Ele...</td>\n",
       "      <td>Adjustable Head Lights, Manually Adjustable Ex...</td>\n",
       "    </tr>\n",
       "    <tr>\n",
       "      <th>...</th>\n",
       "      <td>...</td>\n",
       "      <td>...</td>\n",
       "      <td>...</td>\n",
       "      <td>...</td>\n",
       "      <td>...</td>\n",
       "      <td>...</td>\n",
       "      <td>...</td>\n",
       "      <td>...</td>\n",
       "      <td>...</td>\n",
       "      <td>...</td>\n",
       "      <td>...</td>\n",
       "      <td>...</td>\n",
       "      <td>...</td>\n",
       "      <td>...</td>\n",
       "    </tr>\n",
       "    <tr>\n",
       "      <th>1250</th>\n",
       "      <td>1250</td>\n",
       "      <td>2016 Toyota Innova Crysta</td>\n",
       "      <td>₹ 17,40,000</td>\n",
       "      <td>70,370 Kms</td>\n",
       "      <td>2016</td>\n",
       "      <td>1st Owner</td>\n",
       "      <td>Diesel</td>\n",
       "      <td>Manual</td>\n",
       "      <td>MH12</td>\n",
       "      <td>Third Party insurance</td>\n",
       "      <td>Power Steering, Power Windows Front, Power Win...</td>\n",
       "      <td>Anti Lock Braking System, Brake Assist, Center...</td>\n",
       "      <td>Air Conditioner, Heater, Adjustable Steering, ...</td>\n",
       "      <td>Adjustable Head Lights, Fog Lights Front, Fog ...</td>\n",
       "    </tr>\n",
       "    <tr>\n",
       "      <th>1251</th>\n",
       "      <td>1251</td>\n",
       "      <td>2015 Hyundai Verna</td>\n",
       "      <td>₹ 5,71,000</td>\n",
       "      <td>89,087 Kms</td>\n",
       "      <td>2014</td>\n",
       "      <td>1st Owner</td>\n",
       "      <td>Diesel</td>\n",
       "      <td>Automatic</td>\n",
       "      <td>MH08</td>\n",
       "      <td>Third Party insurance</td>\n",
       "      <td>Power Steering, Power Windows Front, Power Win...</td>\n",
       "      <td>Anti Lock Braking System, Centeral Locking, Po...</td>\n",
       "      <td>Air Conditioner, Heater, Adjustable Steering, ...</td>\n",
       "      <td>Adjustable Head Lights, Fog Lights Front, Powe...</td>\n",
       "    </tr>\n",
       "    <tr>\n",
       "      <th>1252</th>\n",
       "      <td>1252</td>\n",
       "      <td>2014 Honda City</td>\n",
       "      <td>₹ 6,44,836</td>\n",
       "      <td>33,378 Kms</td>\n",
       "      <td>2014</td>\n",
       "      <td>2nd Owner</td>\n",
       "      <td>Petrol</td>\n",
       "      <td>Manual</td>\n",
       "      <td>MH09</td>\n",
       "      <td>Third Party insurance</td>\n",
       "      <td>Power Steering, Power Windows Front, Power Win...</td>\n",
       "      <td>Anti Lock Braking System, Centeral Locking, Po...</td>\n",
       "      <td>Air Conditioner, Heater, Adjustable Steering, ...</td>\n",
       "      <td>Adjustable Head Lights, Fog Lights Front, Powe...</td>\n",
       "    </tr>\n",
       "    <tr>\n",
       "      <th>1253</th>\n",
       "      <td>1253</td>\n",
       "      <td>2015 Maruti Swift</td>\n",
       "      <td>₹ 5,38,000</td>\n",
       "      <td>57,664 Kms</td>\n",
       "      <td>2015</td>\n",
       "      <td>1st Owner</td>\n",
       "      <td>Diesel</td>\n",
       "      <td>Manual</td>\n",
       "      <td>MH12</td>\n",
       "      <td>Third Party insurance</td>\n",
       "      <td>Foldable Rear Seat, Power Steering, Power Wind...</td>\n",
       "      <td>Anti Lock Braking System, Brake Assist, Center...</td>\n",
       "      <td>Air Conditioner, Heater, Adjustable Steering, ...</td>\n",
       "      <td>Adjustable Head Lights, Fog Lights Front, Fog ...</td>\n",
       "    </tr>\n",
       "    <tr>\n",
       "      <th>1254</th>\n",
       "      <td>1254</td>\n",
       "      <td>2016 Hyundai Grand i10</td>\n",
       "      <td>₹ 4,72,500</td>\n",
       "      <td>62,193 Kms</td>\n",
       "      <td>2015</td>\n",
       "      <td>2nd Owner</td>\n",
       "      <td>Petrol</td>\n",
       "      <td>Automatic</td>\n",
       "      <td>MH12</td>\n",
       "      <td>Third Party insurance</td>\n",
       "      <td>Power Steering, Power Windows Front, Power Win...</td>\n",
       "      <td>Centeral Locking, Power Door Locks, Child Safe...</td>\n",
       "      <td>Air Conditioner, Heater, Adjustable Steering, ...</td>\n",
       "      <td>Adjustable Head Lights, Fog Lights Front, Powe...</td>\n",
       "    </tr>\n",
       "  </tbody>\n",
       "</table>\n",
       "<p>1255 rows × 14 columns</p>\n",
       "</div>"
      ],
      "text/plain": [
       "      Unnamed: 0                   Car_name        Price  Kilometers  \\\n",
       "0              0            2011 Honda City   ₹ 3,99,500  38,647 Kms   \n",
       "1              1    2019 Maruti Swift Dzire   ₹ 6,65,000   9,718 Kms   \n",
       "2              2       2012 Maruti Alto K10   ₹ 1,77,500  89,579 Kms   \n",
       "3              3        2016 Maruti Wagon R   ₹ 3,60,000  81,674 Kms   \n",
       "4              4           2020 Maruti Eeco   ₹ 4,72,000  17,116 Kms   \n",
       "...          ...                        ...          ...         ...   \n",
       "1250        1250  2016 Toyota Innova Crysta  ₹ 17,40,000  70,370 Kms   \n",
       "1251        1251         2015 Hyundai Verna   ₹ 5,71,000  89,087 Kms   \n",
       "1252        1252            2014 Honda City   ₹ 6,44,836  33,378 Kms   \n",
       "1253        1253          2015 Maruti Swift   ₹ 5,38,000  57,664 Kms   \n",
       "1254        1254     2016 Hyundai Grand i10   ₹ 4,72,500  62,193 Kms   \n",
       "\n",
       "      Year of Purchase      Owner    Fuel Transmission   RTO  \\\n",
       "0                 2011  1st Owner  Petrol       Manual  GJ01   \n",
       "1                 2019  1st Owner  Petrol       Manual  GJ09   \n",
       "2                 2012  1st Owner  Petrol       Manual  GJ01   \n",
       "3                 2016  1st Owner  Petrol       Manual  GJ18   \n",
       "4                 2020  1st Owner  Petrol       Manual  GJ01   \n",
       "...                ...        ...     ...          ...   ...   \n",
       "1250              2016  1st Owner  Diesel       Manual  MH12   \n",
       "1251              2014  1st Owner  Diesel    Automatic  MH08   \n",
       "1252              2014  2nd Owner  Petrol       Manual  MH09   \n",
       "1253              2015  1st Owner  Diesel       Manual  MH12   \n",
       "1254              2015  2nd Owner  Petrol    Automatic  MH12   \n",
       "\n",
       "             Insurance Type  \\\n",
       "0     Third Party insurance   \n",
       "1     Third Party insurance   \n",
       "2     Third Party insurance   \n",
       "3     Third Party insurance   \n",
       "4     Third Party insurance   \n",
       "...                     ...   \n",
       "1250  Third Party insurance   \n",
       "1251  Third Party insurance   \n",
       "1252  Third Party insurance   \n",
       "1253  Third Party insurance   \n",
       "1254  Third Party insurance   \n",
       "\n",
       "                                                Feature  \\\n",
       "0     Power Steering, Power Windows Front, Power Win...   \n",
       "1     Power Steering, Power Windows Front, Power Win...   \n",
       "2     Power Steering, Remote Trunk Opener, Remote Fu...   \n",
       "3     Foldable Rear Seat, Power Steering, Power Wind...   \n",
       "4     Low Fuel Warning Light, Accessory Power Outlet...   \n",
       "...                                                 ...   \n",
       "1250  Power Steering, Power Windows Front, Power Win...   \n",
       "1251  Power Steering, Power Windows Front, Power Win...   \n",
       "1252  Power Steering, Power Windows Front, Power Win...   \n",
       "1253  Foldable Rear Seat, Power Steering, Power Wind...   \n",
       "1254  Power Steering, Power Windows Front, Power Win...   \n",
       "\n",
       "                                                 Safety  \\\n",
       "0     Anti Lock Braking System, Brake Assist, Center...   \n",
       "1     Anti Lock Braking System, Brake Assist, Center...   \n",
       "2     Halogen Headlamps, Rear Seat Belts, Seat Belt ...   \n",
       "3     Anti Lock Braking System, Centeral Locking, Po...   \n",
       "4     Anti Lock Braking System, Child Safety Locks, ...   \n",
       "...                                                 ...   \n",
       "1250  Anti Lock Braking System, Brake Assist, Center...   \n",
       "1251  Anti Lock Braking System, Centeral Locking, Po...   \n",
       "1252  Anti Lock Braking System, Centeral Locking, Po...   \n",
       "1253  Anti Lock Braking System, Brake Assist, Center...   \n",
       "1254  Centeral Locking, Power Door Locks, Child Safe...   \n",
       "\n",
       "                                               Interior  \\\n",
       "0     Air Conditioner, Heater, Adjustable Steering, ...   \n",
       "1     Air Conditioner, Heater, Adjustable Steering, ...   \n",
       "2     Air Conditioner, Heater, Electronic Multi Trip...   \n",
       "3     Air Conditioner, Heater, Adjustable Steering, ...   \n",
       "4     Air Conditioner, Heater, Digital Odometer, Ele...   \n",
       "...                                                 ...   \n",
       "1250  Air Conditioner, Heater, Adjustable Steering, ...   \n",
       "1251  Air Conditioner, Heater, Adjustable Steering, ...   \n",
       "1252  Air Conditioner, Heater, Adjustable Steering, ...   \n",
       "1253  Air Conditioner, Heater, Adjustable Steering, ...   \n",
       "1254  Air Conditioner, Heater, Adjustable Steering, ...   \n",
       "\n",
       "                                               Exterior  \n",
       "0     Adjustable Head Lights, Fog Lights Front, Powe...  \n",
       "1     Adjustable Head Lights, Power Adjustable Exter...  \n",
       "2     Adjustable Head Lights, Manually Adjustable Ex...  \n",
       "3     Adjustable Head Lights, Power Adjustable Exter...  \n",
       "4     Adjustable Head Lights, Manually Adjustable Ex...  \n",
       "...                                                 ...  \n",
       "1250  Adjustable Head Lights, Fog Lights Front, Fog ...  \n",
       "1251  Adjustable Head Lights, Fog Lights Front, Powe...  \n",
       "1252  Adjustable Head Lights, Fog Lights Front, Powe...  \n",
       "1253  Adjustable Head Lights, Fog Lights Front, Fog ...  \n",
       "1254  Adjustable Head Lights, Fog Lights Front, Powe...  \n",
       "\n",
       "[1255 rows x 14 columns]"
      ]
     },
     "execution_count": 3,
     "metadata": {},
     "output_type": "execute_result"
    }
   ],
   "source": [
    "df"
   ]
  },
  {
   "cell_type": "code",
   "execution_count": 4,
   "id": "00137c1f",
   "metadata": {},
   "outputs": [
    {
     "data": {
      "text/plain": [
       "Index(['Unnamed: 0', 'Car_name', 'Price', 'Kilometers', 'Year of Purchase',\n",
       "       'Owner', 'Fuel', 'Transmission', 'RTO', 'Insurance Type', 'Feature',\n",
       "       'Safety', 'Interior', 'Exterior'],\n",
       "      dtype='object')"
      ]
     },
     "execution_count": 4,
     "metadata": {},
     "output_type": "execute_result"
    }
   ],
   "source": [
    "df.columns"
   ]
  },
  {
   "cell_type": "markdown",
   "id": "e67c5596",
   "metadata": {},
   "source": [
    "# Data Cleaning"
   ]
  },
  {
   "cell_type": "code",
   "execution_count": 5,
   "id": "76b1c1e5",
   "metadata": {},
   "outputs": [],
   "source": [
    "df.drop(['Unnamed: 0'],axis=1,inplace=True)"
   ]
  },
  {
   "cell_type": "code",
   "execution_count": 6,
   "id": "5dc3175f",
   "metadata": {},
   "outputs": [],
   "source": [
    "price=[]\n",
    "for i in df['Price'].str.strip(\"₹ \"):\n",
    "    price.append(int(''.join(i.split(\",\"))))\n",
    "df['Price new']=price"
   ]
  },
  {
   "cell_type": "code",
   "execution_count": 7,
   "id": "5ff4d3dd",
   "metadata": {},
   "outputs": [],
   "source": [
    "fuel=pd.get_dummies(df['Fuel'])"
   ]
  },
  {
   "cell_type": "code",
   "execution_count": 8,
   "id": "18bf2e23",
   "metadata": {},
   "outputs": [],
   "source": [
    "df=pd.concat([fuel,df],axis=1)"
   ]
  },
  {
   "cell_type": "code",
   "execution_count": 9,
   "id": "4ec89988",
   "metadata": {},
   "outputs": [
    {
     "data": {
      "text/plain": [
       "0       38,647 \n",
       "1        9,718 \n",
       "2       89,579 \n",
       "3       81,674 \n",
       "4       17,116 \n",
       "         ...   \n",
       "1250    70,370 \n",
       "1251    89,087 \n",
       "1252    33,378 \n",
       "1253    57,664 \n",
       "1254    62,193 \n",
       "Name: Kilometers, Length: 1255, dtype: object"
      ]
     },
     "execution_count": 9,
     "metadata": {},
     "output_type": "execute_result"
    }
   ],
   "source": [
    "df['Kilometers'].str.strip('Kms')"
   ]
  },
  {
   "cell_type": "code",
   "execution_count": 10,
   "id": "728560ed",
   "metadata": {},
   "outputs": [],
   "source": [
    "kms=[]\n",
    "for i in df['Kilometers'].str.strip(\"Kms\"):\n",
    "    kms.append(int(''.join(i.split(\",\"))))\n",
    "df['Kilometers new']=kms"
   ]
  },
  {
   "cell_type": "code",
   "execution_count": 11,
   "id": "7b82ee6e",
   "metadata": {},
   "outputs": [],
   "source": [
    "df.drop([\"Price\",\"Kilometers\"],axis=1,inplace=True)"
   ]
  },
  {
   "cell_type": "code",
   "execution_count": 12,
   "id": "c82ca185",
   "metadata": {},
   "outputs": [
    {
     "data": {
      "text/plain": [
       "['1st Owner', '2nd Owner', '3rd Owner']"
      ]
     },
     "execution_count": 12,
     "metadata": {},
     "output_type": "execute_result"
    }
   ],
   "source": [
    "list(df['Owner'].value_counts().keys())"
   ]
  },
  {
   "cell_type": "code",
   "execution_count": 13,
   "id": "5192a0c9",
   "metadata": {},
   "outputs": [],
   "source": [
    "df['Owner'].replace(list(df['Owner'].value_counts().keys()),[1,2,3],inplace=True)"
   ]
  },
  {
   "cell_type": "code",
   "execution_count": 14,
   "id": "97c6ec91",
   "metadata": {},
   "outputs": [],
   "source": [
    "df.drop('Fuel',axis=1,inplace=True)"
   ]
  },
  {
   "cell_type": "code",
   "execution_count": 15,
   "id": "080a388f",
   "metadata": {},
   "outputs": [
    {
     "name": "stdout",
     "output_type": "stream",
     "text": [
      "MH12    81\n",
      "DL3C    65\n",
      "DL2C    54\n",
      "DL8C    54\n",
      "DL9C    52\n",
      "        ..\n",
      "GJ09     1\n",
      "TS31     1\n",
      "AP11     1\n",
      "MH06     1\n",
      "KA08     1\n",
      "Name: RTO, Length: 139, dtype: int64\n",
      "Manual       1004\n",
      "Automatic     159\n",
      "DL9C            9\n",
      "MH12            9\n",
      "RJ14            7\n",
      "DL7C            7\n",
      "MH43            4\n",
      "DL6C            4\n",
      "DL3C            4\n",
      "DL12            4\n",
      "MH02            3\n",
      "RJ45            3\n",
      "TS08            3\n",
      "MH14            3\n",
      "DL4C            3\n",
      "KA02            3\n",
      "HR29            2\n",
      "MH01            2\n",
      "MH04            2\n",
      "MH47            2\n",
      "MH48            2\n",
      "MH05            2\n",
      "DL5C            2\n",
      "KA05            1\n",
      "KA50            1\n",
      "KA51            1\n",
      "MH11            1\n",
      "MH13            1\n",
      "TS10            1\n",
      "RJ19            1\n",
      "KA04            1\n",
      "AP36            1\n",
      "AP23            1\n",
      "KA01            1\n",
      "MH03            1\n",
      "Name: Transmission, dtype: int64\n",
      "Third Party insurance    1063\n",
      "Not Available              99\n",
      "Manual                     79\n",
      "Automatic                  13\n",
      "Third Party                 1\n",
      "Name: Insurance Type, dtype: int64\n"
     ]
    }
   ],
   "source": [
    "for i in ['RTO','Transmission','Insurance Type']:\n",
    "    print(df[i].value_counts())"
   ]
  },
  {
   "cell_type": "code",
   "execution_count": 16,
   "id": "4e89445d",
   "metadata": {},
   "outputs": [
    {
     "name": "stdout",
     "output_type": "stream",
     "text": [
      "1 2022\n",
      "3 2022\n",
      "3 2022\n",
      "6 2021\n",
      "2 2022\n",
      "5 2021\n",
      "5 2021\n",
      "5 2021\n",
      "12 2021\n",
      "1 2022\n",
      "10 2021\n",
      "1 2022\n",
      "2 2022\n",
      "12 2021\n",
      "6 2021\n",
      "12 2021\n",
      "12 2021\n",
      "3 2022\n",
      "12 2021\n",
      "1 2022\n",
      "10 2021\n",
      "1 2022\n",
      "6 2021\n",
      "10 2021\n",
      "8 2021\n",
      "12 2021\n",
      "12 2021\n",
      "3 2022\n",
      "7 2022\n",
      "12 2022\n",
      "7 2022\n",
      "7 2022\n",
      "12 2021\n",
      "10 2021\n",
      "9 2021\n",
      "8 2022\n",
      "10 2021\n",
      "1 2022\n",
      "8 2021\n",
      "10 2021\n",
      "10 2021\n",
      "12 2021\n",
      "3 2022\n",
      "4 2022\n",
      "1 2022\n",
      "5 2022\n",
      "10 2021\n",
      "1 2022\n",
      "7 2022\n",
      "6 2022\n",
      "1 2022\n",
      "1 2022\n",
      "1 2022\n",
      "3 2022\n",
      "3 2022\n",
      "1 2022\n",
      "3 2022\n",
      "2 2022\n",
      "12 2021\n",
      "1 2022\n",
      "10 2021\n",
      "12 2021\n",
      "2 2022\n",
      "12 2021\n",
      "6 2021\n",
      "12 2021\n",
      "3 2022\n",
      "12 2021\n",
      "12 2021\n",
      "1 2022\n",
      "1 2022\n",
      "6 2021\n",
      "12 2021\n",
      "12 2021\n",
      "2 2022\n",
      "12 2021\n",
      "3 2022\n",
      "12 2021\n",
      "1 2022\n",
      "6 2022\n",
      "9 2022\n",
      "9 2021\n",
      "9 2021\n",
      "4 2022\n",
      "5 2022\n",
      "6 2021\n",
      "5 2022\n",
      "7 2021\n",
      "4 2022\n",
      "8 2021\n",
      "6 2022\n",
      "11 2021\n"
     ]
    }
   ],
   "source": [
    "for i in df['RTO']:\n",
    "    if len(i)>4:\n",
    "        print(i)"
   ]
  },
  {
   "cell_type": "code",
   "execution_count": 17,
   "id": "ca910a6a",
   "metadata": {},
   "outputs": [],
   "source": [
    "# col=[(df['Transmission']=='5 2021'),(df['Transmission']=='12 2021'),(df['Transmission']=='8 2021'),(df['Transmission']=='2 2022'),\n",
    "#      (df['Transmission']=='9 2021'),(df['Transmission']=='7 2021'),(df['Transmission']=='4 2022'),(df['Transmission']=='6 2021'),\n",
    "#      (df['Transmission']=='11 2021'),(df['Transmission']=='10 2021'),(df['Transmission']=='1 2022'),(df['Transmission']=='4 2021')]\n",
    "# for i in col:\n",
    "#     df.loc[i,['Transmission','Insurance Type']]=df.loc[i,['Insurance Type','Transmission',]].values"
   ]
  },
  {
   "cell_type": "code",
   "execution_count": 18,
   "id": "6141e451",
   "metadata": {},
   "outputs": [],
   "source": [
    "df.loc[df[df['Insurance Type'].isin(['Manual'])].index,'RTO']=df.loc[df[df['Insurance Type'].isin(['Manual'])].index,'Transmission']"
   ]
  },
  {
   "cell_type": "code",
   "execution_count": 19,
   "id": "737492d2",
   "metadata": {},
   "outputs": [],
   "source": [
    "df.loc[df[df['Insurance Type'].isin(['Automatic'])].index,'RTO']=df.loc[df[df['Insurance Type'].isin(['Automatic'])].index,'Transmission']"
   ]
  },
  {
   "cell_type": "code",
   "execution_count": 20,
   "id": "fb0e19a9",
   "metadata": {},
   "outputs": [],
   "source": [
    "df.loc[df[df['Insurance Type'].isin(['Manual'])].index,'Transmission']=\"Manual\"\n",
    "df.loc[df[df['Insurance Type'].isin(['Automatic'])].index,'Transmission']=\"Automatic\""
   ]
  },
  {
   "cell_type": "code",
   "execution_count": 21,
   "id": "295aaf4a",
   "metadata": {},
   "outputs": [],
   "source": [
    "df.loc[df[df['Insurance Type'].isin(['Manual'])].index,'Insurance Type']=\"Not Available\"\n",
    "df.loc[df[df['Insurance Type'].isin(['Automatic'])].index,'Insurance Type']=\"Not Available\""
   ]
  },
  {
   "cell_type": "code",
   "execution_count": 22,
   "id": "f1dddbc9",
   "metadata": {},
   "outputs": [],
   "source": [
    "df.loc[df[df['Insurance Type'].isin(['Third Party'])].index,'Insurance Type']=\"Third Party insurance\""
   ]
  },
  {
   "cell_type": "code",
   "execution_count": 23,
   "id": "9b8cf477",
   "metadata": {},
   "outputs": [
    {
     "data": {
      "text/html": [
       "<div>\n",
       "<style scoped>\n",
       "    .dataframe tbody tr th:only-of-type {\n",
       "        vertical-align: middle;\n",
       "    }\n",
       "\n",
       "    .dataframe tbody tr th {\n",
       "        vertical-align: top;\n",
       "    }\n",
       "\n",
       "    .dataframe thead th {\n",
       "        text-align: right;\n",
       "    }\n",
       "</style>\n",
       "<table border=\"1\" class=\"dataframe\">\n",
       "  <thead>\n",
       "    <tr style=\"text-align: right;\">\n",
       "      <th></th>\n",
       "      <th>CNG</th>\n",
       "      <th>Diesel</th>\n",
       "      <th>LPG</th>\n",
       "      <th>Petrol</th>\n",
       "      <th>Car_name</th>\n",
       "      <th>Year of Purchase</th>\n",
       "      <th>Owner</th>\n",
       "      <th>Transmission</th>\n",
       "      <th>RTO</th>\n",
       "      <th>Insurance Type</th>\n",
       "      <th>Feature</th>\n",
       "      <th>Safety</th>\n",
       "      <th>Interior</th>\n",
       "      <th>Exterior</th>\n",
       "      <th>Price new</th>\n",
       "      <th>Kilometers new</th>\n",
       "    </tr>\n",
       "  </thead>\n",
       "  <tbody>\n",
       "  </tbody>\n",
       "</table>\n",
       "</div>"
      ],
      "text/plain": [
       "Empty DataFrame\n",
       "Columns: [CNG, Diesel, LPG, Petrol, Car_name, Year of Purchase, Owner, Transmission, RTO, Insurance Type, Feature, Safety, Interior, Exterior, Price new, Kilometers new]\n",
       "Index: []"
      ]
     },
     "execution_count": 23,
     "metadata": {},
     "output_type": "execute_result"
    }
   ],
   "source": [
    "df[df['RTO']=='1 2022']"
   ]
  },
  {
   "cell_type": "code",
   "execution_count": 24,
   "id": "a1162146",
   "metadata": {},
   "outputs": [
    {
     "data": {
      "text/plain": [
       "Manual       1083\n",
       "Automatic     172\n",
       "Name: Transmission, dtype: int64"
      ]
     },
     "execution_count": 24,
     "metadata": {},
     "output_type": "execute_result"
    }
   ],
   "source": [
    "df['Transmission'].value_counts()"
   ]
  },
  {
   "cell_type": "code",
   "execution_count": 25,
   "id": "b2cae19f",
   "metadata": {},
   "outputs": [],
   "source": [
    "insusrance=pd.get_dummies(df['Insurance Type'])\n",
    "transmission=pd.get_dummies(df['Transmission'])"
   ]
  },
  {
   "cell_type": "code",
   "execution_count": 26,
   "id": "1a0a2291",
   "metadata": {},
   "outputs": [],
   "source": [
    "df=pd.concat([insusrance,transmission,df],axis=1)\n",
    "df.drop(['Transmission','Insurance Type'],axis=1,inplace=True)"
   ]
  },
  {
   "cell_type": "code",
   "execution_count": 27,
   "id": "c7a41c30",
   "metadata": {},
   "outputs": [
    {
     "data": {
      "text/plain": [
       "Index(['Car_name', 'RTO', 'Feature', 'Safety', 'Interior', 'Exterior'], dtype='object')"
      ]
     },
     "execution_count": 27,
     "metadata": {},
     "output_type": "execute_result"
    }
   ],
   "source": [
    "df.select_dtypes('O').columns"
   ]
  },
  {
   "cell_type": "code",
   "execution_count": 28,
   "id": "0a3bde77",
   "metadata": {},
   "outputs": [],
   "source": [
    "df['all_text']=df['Car_name']+df['RTO']+df['Feature']+df['Safety']+df['Interior']+df['Exterior']"
   ]
  },
  {
   "cell_type": "code",
   "execution_count": 29,
   "id": "dbf8da94",
   "metadata": {},
   "outputs": [],
   "source": [
    "from sklearn.feature_extraction.text import CountVectorizer,TfidfVectorizer\n",
    "cv=CountVectorizer()\n",
    "tf=TfidfVectorizer()\n",
    "text_feature=cv.fit_transform(df['all_text'])"
   ]
  },
  {
   "cell_type": "code",
   "execution_count": 30,
   "id": "6de92bcf",
   "metadata": {},
   "outputs": [
    {
     "data": {
      "text/plain": [
       "array([[0, 0, 0, ..., 0, 0, 0],\n",
       "       [0, 0, 0, ..., 0, 0, 0],\n",
       "       [0, 0, 0, ..., 0, 0, 0],\n",
       "       ...,\n",
       "       [0, 0, 0, ..., 0, 0, 0],\n",
       "       [0, 0, 0, ..., 0, 0, 0],\n",
       "       [0, 0, 0, ..., 0, 0, 0]], dtype=int64)"
      ]
     },
     "execution_count": 30,
     "metadata": {},
     "output_type": "execute_result"
    }
   ],
   "source": [
    "text_feature.toarray()"
   ]
  },
  {
   "cell_type": "code",
   "execution_count": 31,
   "id": "c3d0a33e",
   "metadata": {},
   "outputs": [],
   "source": [
    "dff=pd.DataFrame(text_feature.toarray())"
   ]
  },
  {
   "cell_type": "code",
   "execution_count": 32,
   "id": "07f4c9cf",
   "metadata": {},
   "outputs": [
    {
     "data": {
      "text/plain": [
       "(1255, 933)"
      ]
     },
     "execution_count": 32,
     "metadata": {},
     "output_type": "execute_result"
    }
   ],
   "source": [
    "dff.shape"
   ]
  },
  {
   "cell_type": "code",
   "execution_count": 33,
   "id": "c5812c1e",
   "metadata": {},
   "outputs": [
    {
     "data": {
      "text/html": [
       "<div>\n",
       "<style scoped>\n",
       "    .dataframe tbody tr th:only-of-type {\n",
       "        vertical-align: middle;\n",
       "    }\n",
       "\n",
       "    .dataframe tbody tr th {\n",
       "        vertical-align: top;\n",
       "    }\n",
       "\n",
       "    .dataframe thead th {\n",
       "        text-align: right;\n",
       "    }\n",
       "</style>\n",
       "<table border=\"1\" class=\"dataframe\">\n",
       "  <thead>\n",
       "    <tr style=\"text-align: right;\">\n",
       "      <th></th>\n",
       "      <th>Year of Purchase</th>\n",
       "      <th>Owner</th>\n",
       "      <th>Price new</th>\n",
       "      <th>Kilometers new</th>\n",
       "    </tr>\n",
       "  </thead>\n",
       "  <tbody>\n",
       "    <tr>\n",
       "      <th>0</th>\n",
       "      <td>2011</td>\n",
       "      <td>1</td>\n",
       "      <td>399500</td>\n",
       "      <td>38647</td>\n",
       "    </tr>\n",
       "    <tr>\n",
       "      <th>1</th>\n",
       "      <td>2019</td>\n",
       "      <td>1</td>\n",
       "      <td>665000</td>\n",
       "      <td>9718</td>\n",
       "    </tr>\n",
       "    <tr>\n",
       "      <th>2</th>\n",
       "      <td>2012</td>\n",
       "      <td>1</td>\n",
       "      <td>177500</td>\n",
       "      <td>89579</td>\n",
       "    </tr>\n",
       "    <tr>\n",
       "      <th>3</th>\n",
       "      <td>2016</td>\n",
       "      <td>1</td>\n",
       "      <td>360000</td>\n",
       "      <td>81674</td>\n",
       "    </tr>\n",
       "    <tr>\n",
       "      <th>4</th>\n",
       "      <td>2020</td>\n",
       "      <td>1</td>\n",
       "      <td>472000</td>\n",
       "      <td>17116</td>\n",
       "    </tr>\n",
       "    <tr>\n",
       "      <th>...</th>\n",
       "      <td>...</td>\n",
       "      <td>...</td>\n",
       "      <td>...</td>\n",
       "      <td>...</td>\n",
       "    </tr>\n",
       "    <tr>\n",
       "      <th>1250</th>\n",
       "      <td>2016</td>\n",
       "      <td>1</td>\n",
       "      <td>1740000</td>\n",
       "      <td>70370</td>\n",
       "    </tr>\n",
       "    <tr>\n",
       "      <th>1251</th>\n",
       "      <td>2014</td>\n",
       "      <td>1</td>\n",
       "      <td>571000</td>\n",
       "      <td>89087</td>\n",
       "    </tr>\n",
       "    <tr>\n",
       "      <th>1252</th>\n",
       "      <td>2014</td>\n",
       "      <td>2</td>\n",
       "      <td>644836</td>\n",
       "      <td>33378</td>\n",
       "    </tr>\n",
       "    <tr>\n",
       "      <th>1253</th>\n",
       "      <td>2015</td>\n",
       "      <td>1</td>\n",
       "      <td>538000</td>\n",
       "      <td>57664</td>\n",
       "    </tr>\n",
       "    <tr>\n",
       "      <th>1254</th>\n",
       "      <td>2015</td>\n",
       "      <td>2</td>\n",
       "      <td>472500</td>\n",
       "      <td>62193</td>\n",
       "    </tr>\n",
       "  </tbody>\n",
       "</table>\n",
       "<p>1255 rows × 4 columns</p>\n",
       "</div>"
      ],
      "text/plain": [
       "      Year of Purchase  Owner  Price new  Kilometers new\n",
       "0                 2011      1     399500           38647\n",
       "1                 2019      1     665000            9718\n",
       "2                 2012      1     177500           89579\n",
       "3                 2016      1     360000           81674\n",
       "4                 2020      1     472000           17116\n",
       "...                ...    ...        ...             ...\n",
       "1250              2016      1    1740000           70370\n",
       "1251              2014      1     571000           89087\n",
       "1252              2014      2     644836           33378\n",
       "1253              2015      1     538000           57664\n",
       "1254              2015      2     472500           62193\n",
       "\n",
       "[1255 rows x 4 columns]"
      ]
     },
     "execution_count": 33,
     "metadata": {},
     "output_type": "execute_result"
    }
   ],
   "source": [
    "df.select_dtypes('int64')"
   ]
  },
  {
   "cell_type": "code",
   "execution_count": 34,
   "id": "3cce238b",
   "metadata": {},
   "outputs": [],
   "source": [
    "df.select_dtypes('uint8')\n",
    "df_new=pd.concat([dff,df.select_dtypes('uint8'),df.select_dtypes('int64')],axis=1)"
   ]
  },
  {
   "cell_type": "markdown",
   "id": "0ac142f7",
   "metadata": {},
   "source": [
    "# Model Generation"
   ]
  },
  {
   "cell_type": "code",
   "execution_count": 35,
   "id": "019314d0",
   "metadata": {},
   "outputs": [],
   "source": [
    "from sklearn.naive_bayes import GaussianNB,MultinomialNB\n",
    "from sklearn.svm import SVR\n",
    "from sklearn.linear_model import LinearRegression\n",
    "from sklearn.ensemble import RandomForestRegressor\n",
    "from sklearn.ensemble import AdaBoostRegressor\n",
    "from sklearn.linear_model import SGDRegressor\n",
    "from sklearn.tree import DecisionTreeRegressor\n",
    "from sklearn.neighbors import KNeighborsRegressor\n",
    "from sklearn.model_selection import cross_val_score\n",
    "from sklearn.metrics import mean_squared_error, mean_absolute_error,accuracy_score,r2_score\n",
    "from sklearn.model_selection import train_test_split\n",
    "from sklearn.model_selection import GridSearchCV"
   ]
  },
  {
   "cell_type": "code",
   "execution_count": 36,
   "id": "d0013609",
   "metadata": {},
   "outputs": [],
   "source": [
    "X=df_new.drop(['Price new'],axis=1)"
   ]
  },
  {
   "cell_type": "code",
   "execution_count": 37,
   "id": "6ba0a105",
   "metadata": {},
   "outputs": [],
   "source": [
    "Y=df_new['Price new']"
   ]
  },
  {
   "cell_type": "code",
   "execution_count": 38,
   "id": "b5611507",
   "metadata": {},
   "outputs": [],
   "source": [
    "# X_train,X_test,Y_train,Y_test=train_test_split(X,Y,test_size=.30,random_state=30)"
   ]
  },
  {
   "cell_type": "code",
   "execution_count": 41,
   "id": "8958b9f5",
   "metadata": {},
   "outputs": [
    {
     "name": "stdout",
     "output_type": "stream",
     "text": [
      "Best accuracy is 0.8306087345730302 on Random State 192\n"
     ]
    }
   ],
   "source": [
    "from sklearn.linear_model import LinearRegression\n",
    "maxAccu=0\n",
    "maxRS=0\n",
    "for i in range(1,200):\n",
    "    X_train,X_test,Y_train,Y_test=train_test_split(X,Y,test_size=.30,random_state=i)\n",
    "    l=LinearRegression()\n",
    "    l.fit(X_train,Y_train)\n",
    "    pred=l.predict(X_test)\n",
    "    acc=r2_score(Y_test,pred)\n",
    "    if acc>maxAccu:\n",
    "        maxAccu=acc\n",
    "        maxRS=i\n",
    "print(\"Best accuracy is\",maxAccu,\"on Random State\",maxRS)"
   ]
  },
  {
   "cell_type": "code",
   "execution_count": 42,
   "id": "778e3a3d",
   "metadata": {},
   "outputs": [
    {
     "name": "stdout",
     "output_type": "stream",
     "text": [
      "Best accuracy is 0.9318917243174805 on Random State 195\n"
     ]
    }
   ],
   "source": [
    "from sklearn.ensemble import RandomForestRegressor \n",
    "maxAccu=0\n",
    "maxRS=0\n",
    "for i in range(1,200):\n",
    "    X_train,X_test,Y_train,Y_test=train_test_split(X,Y,test_size=.30,random_state=i)\n",
    "    r=RandomForestRegressor()\n",
    "    r.fit(X_train,Y_train)\n",
    "    pred=r.predict(X_test)\n",
    "    acc=r2_score(Y_test,pred)\n",
    "    if acc>maxAccu:\n",
    "        maxAccu=acc\n",
    "        maxRS=i\n",
    "print(\"Best accuracy is\",maxAccu,\"on Random State\",maxRS)"
   ]
  },
  {
   "cell_type": "code",
   "execution_count": 43,
   "id": "5e9b3d6a",
   "metadata": {},
   "outputs": [],
   "source": [
    "X_train,X_test,Y_train,Y_test=train_test_split(X,Y,test_size=.30,random_state=190)"
   ]
  },
  {
   "cell_type": "code",
   "execution_count": 44,
   "id": "42e0f1da",
   "metadata": {},
   "outputs": [
    {
     "name": "stdout",
     "output_type": "stream",
     "text": [
      "0.873909754986614\n"
     ]
    }
   ],
   "source": [
    "d=DecisionTreeRegressor()\n",
    "d.fit(X_train,Y_train)\n",
    "pred=l.predict(X_test)\n",
    "print(r2_score(Y_test,pred))"
   ]
  },
  {
   "cell_type": "markdown",
   "id": "aa805ad7",
   "metadata": {},
   "source": [
    "### Hyper Parameter Tuning"
   ]
  },
  {
   "cell_type": "code",
   "execution_count": 57,
   "id": "9aedc28d",
   "metadata": {},
   "outputs": [
    {
     "name": "stdout",
     "output_type": "stream",
     "text": [
      "{'criterion': 'mse', 'max_features': 'auto'}\n"
     ]
    }
   ],
   "source": [
    "from sklearn.model_selection import GridSearchCV\n",
    "from sklearn.ensemble import RandomForestRegressor\n",
    "para={'criterion':['mse','mae'],'max_features':['auto','sqrt','log2']}\n",
    "rf=RandomForestRegressor()\n",
    "clf=GridSearchCV(rf,para)\n",
    "clf.fit(X_train,Y_train)\n",
    "print(clf.best_params_)"
   ]
  },
  {
   "cell_type": "code",
   "execution_count": 58,
   "id": "e7295ce0",
   "metadata": {},
   "outputs": [
    {
     "name": "stdout",
     "output_type": "stream",
     "text": [
      "R2 Score 0.9048413034398327\n"
     ]
    }
   ],
   "source": [
    "rf=RandomForestRegressor(criterion='mse',max_features='auto')\n",
    "rf.fit(X_train,Y_train)\n",
    "rf.score(X_train,Y_train)\n",
    "pred=rf.predict(X_test)\n",
    "rfs=r2_score(Y_test,pred) \n",
    "print(\"R2 Score\",rfs) "
   ]
  },
  {
   "cell_type": "code",
   "execution_count": 61,
   "id": "a64de0fb",
   "metadata": {},
   "outputs": [
    {
     "name": "stdout",
     "output_type": "stream",
     "text": [
      "{'criterion': 'mse', 'splitter': 'random'}\n"
     ]
    }
   ],
   "source": [
    "from sklearn.tree import DecisionTreeRegressor\n",
    "dt=DecisionTreeRegressor(criterion={\"mse\", \"friedman_mse\", \"mae\"},splitter={\"best\",\"random\"})\n",
    "para={'criterion':[\"mse\", \"friedman_mse\", \"mae\"],'splitter':[\"best\",\"random\"]}\n",
    "dt=DecisionTreeRegressor()\n",
    "cl=GridSearchCV(dt,para)\n",
    "cl.fit(X_train,Y_train)\n",
    "print(cl.best_params_)"
   ]
  },
  {
   "cell_type": "code",
   "execution_count": 62,
   "id": "832e4449",
   "metadata": {},
   "outputs": [
    {
     "name": "stdout",
     "output_type": "stream",
     "text": [
      "0.7901039964346165\n"
     ]
    }
   ],
   "source": [
    "dt=DecisionTreeRegressor(criterion='mse',splitter='random')\n",
    "dt.fit(X_train,Y_train)\n",
    "pred=dt.predict(X_test)\n",
    "dt=r2_score(Y_test,pred)\n",
    "print(dt)"
   ]
  },
  {
   "cell_type": "markdown",
   "id": "d105b63b",
   "metadata": {},
   "source": [
    "### Cross Validation"
   ]
  },
  {
   "cell_type": "code",
   "execution_count": 67,
   "id": "5ac9b0a1",
   "metadata": {},
   "outputs": [
    {
     "name": "stdout",
     "output_type": "stream",
     "text": [
      "-10035133906925.879\n"
     ]
    }
   ],
   "source": [
    "from sklearn.model_selection import cross_val_score\n",
    "svcscores=cross_val_score(l,X,Y,cv=10)\n",
    "print(svcscores.mean())"
   ]
  },
  {
   "cell_type": "code",
   "execution_count": 66,
   "id": "91a0694d",
   "metadata": {},
   "outputs": [
    {
     "name": "stdout",
     "output_type": "stream",
     "text": [
      "0.8384738018842544\n"
     ]
    }
   ],
   "source": [
    "from sklearn.model_selection import cross_val_score\n",
    "svcscores=cross_val_score(r,X,Y,cv=10)\n",
    "print(svcscores.mean())"
   ]
  },
  {
   "cell_type": "code",
   "execution_count": 68,
   "id": "aec10497",
   "metadata": {},
   "outputs": [
    {
     "name": "stdout",
     "output_type": "stream",
     "text": [
      "0.7393159790847745\n"
     ]
    }
   ],
   "source": [
    "from sklearn.model_selection import cross_val_score\n",
    "svcscores=cross_val_score(d,X,Y,cv=10)\n",
    "print(svcscores.mean())\n"
   ]
  },
  {
   "cell_type": "markdown",
   "id": "18012077",
   "metadata": {},
   "source": [
    "# The Best Model for this Dataset is RandomForestRegressor"
   ]
  },
  {
   "cell_type": "code",
   "execution_count": null,
   "id": "96a371ea",
   "metadata": {},
   "outputs": [],
   "source": []
  }
 ],
 "metadata": {
  "kernelspec": {
   "display_name": "Python 3",
   "language": "python",
   "name": "python3"
  },
  "language_info": {
   "codemirror_mode": {
    "name": "ipython",
    "version": 3
   },
   "file_extension": ".py",
   "mimetype": "text/x-python",
   "name": "python",
   "nbconvert_exporter": "python",
   "pygments_lexer": "ipython3",
   "version": "3.8.8"
  }
 },
 "nbformat": 4,
 "nbformat_minor": 5
}
